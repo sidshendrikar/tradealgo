{
 "cells": [
  {
   "cell_type": "code",
   "execution_count": 1,
   "metadata": {},
   "outputs": [],
   "source": [
    "import alpaca_trade_api as tradeapi\n",
    "import pandas as pd\n",
    "import numpy as np\n",
    "from datetime import datetime, timedelta\n",
    "import pytz\n",
    "import matplotlib.pyplot as plt\n",
    "import yfinance as yf\n"
   ]
  },
  {
   "cell_type": "code",
   "execution_count": 2,
   "metadata": {},
   "outputs": [
    {
     "ename": "AttributeError",
     "evalue": "'REST' object has no attribute 'get_barset'",
     "output_type": "error",
     "traceback": [
      "\u001b[0;31m---------------------------------------------------------------------------\u001b[0m",
      "\u001b[0;31mAttributeError\u001b[0m                            Traceback (most recent call last)",
      "\u001b[1;32m/Users/siddharthashendrikar/Desktop/tradealgo/optionstrading.ipynb Cell 2\u001b[0m line \u001b[0;36m3\n\u001b[1;32m     <a href='vscode-notebook-cell:/Users/siddharthashendrikar/Desktop/tradealgo/optionstrading.ipynb#W1sZmlsZQ%3D%3D?line=30'>31</a>\u001b[0m     \u001b[39mreturn\u001b[39;00m df\n\u001b[1;32m     <a href='vscode-notebook-cell:/Users/siddharthashendrikar/Desktop/tradealgo/optionstrading.ipynb#W1sZmlsZQ%3D%3D?line=32'>33</a>\u001b[0m \u001b[39m# Fetch data and apply the strategy\u001b[39;00m\n\u001b[0;32m---> <a href='vscode-notebook-cell:/Users/siddharthashendrikar/Desktop/tradealgo/optionstrading.ipynb#W1sZmlsZQ%3D%3D?line=33'>34</a>\u001b[0m df \u001b[39m=\u001b[39m fetch_historical_data(symbol, start_date, end_date)\n\u001b[1;32m     <a href='vscode-notebook-cell:/Users/siddharthashendrikar/Desktop/tradealgo/optionstrading.ipynb#W1sZmlsZQ%3D%3D?line=34'>35</a>\u001b[0m df \u001b[39m=\u001b[39m moving_average_strategy(df)\n\u001b[1;32m     <a href='vscode-notebook-cell:/Users/siddharthashendrikar/Desktop/tradealgo/optionstrading.ipynb#W1sZmlsZQ%3D%3D?line=35'>36</a>\u001b[0m df \u001b[39m=\u001b[39m backtest(df, initial_capital, position_size)\n",
      "\u001b[1;32m/Users/siddharthashendrikar/Desktop/tradealgo/optionstrading.ipynb Cell 2\u001b[0m line \u001b[0;36m1\n\u001b[1;32m     <a href='vscode-notebook-cell:/Users/siddharthashendrikar/Desktop/tradealgo/optionstrading.ipynb#W1sZmlsZQ%3D%3D?line=11'>12</a>\u001b[0m \u001b[39mdef\u001b[39;00m \u001b[39mfetch_historical_data\u001b[39m(symbol, start_date, end_date):\n\u001b[0;32m---> <a href='vscode-notebook-cell:/Users/siddharthashendrikar/Desktop/tradealgo/optionstrading.ipynb#W1sZmlsZQ%3D%3D?line=12'>13</a>\u001b[0m     barset \u001b[39m=\u001b[39m api\u001b[39m.\u001b[39;49mget_barset(symbol, \u001b[39m'\u001b[39m\u001b[39mday\u001b[39m\u001b[39m'\u001b[39m, start\u001b[39m=\u001b[39mstart_date, end\u001b[39m=\u001b[39mend_date)\n\u001b[1;32m     <a href='vscode-notebook-cell:/Users/siddharthashendrikar/Desktop/tradealgo/optionstrading.ipynb#W1sZmlsZQ%3D%3D?line=13'>14</a>\u001b[0m     df \u001b[39m=\u001b[39m barset[symbol]\u001b[39m.\u001b[39mdf\n\u001b[1;32m     <a href='vscode-notebook-cell:/Users/siddharthashendrikar/Desktop/tradealgo/optionstrading.ipynb#W1sZmlsZQ%3D%3D?line=14'>15</a>\u001b[0m     df[\u001b[39m'\u001b[39m\u001b[39mreturns\u001b[39m\u001b[39m'\u001b[39m] \u001b[39m=\u001b[39m df[\u001b[39m'\u001b[39m\u001b[39mclose\u001b[39m\u001b[39m'\u001b[39m]\u001b[39m.\u001b[39mpct_change()\n",
      "\u001b[0;31mAttributeError\u001b[0m: 'REST' object has no attribute 'get_barset'"
     ]
    }
   ],
   "source": [
    "\n",
    "# Initialize the Alpaca API\n",
    "api = tradeapi.REST('PK0LC2J1NSMU3IUAXF31', 'VpfhPftx0Wvmkn5PoOKabFcUUHrCSxQ8LF8dri3s', base_url='https://paper-api.alpaca.markets')\n",
    "\n",
    "# Parameters for the backtest\n",
    "symbol = 'AAPL'  # Replace with your target asset\n",
    "start_date = '2022-01-01'\n",
    "end_date = '2023-01-01'\n",
    "initial_capital = 10000  # Starting capital in USD\n",
    "position_size = 0.1  # Fraction of capital to allocate per trade\n",
    "\n",
    "# Fetch historical data\n",
    "def fetch_historical_data(symbol, start_date, end_date):\n",
    "    barset = api.get_barset(symbol, 'day', start=start_date, end=end_date)\n",
    "    df = barset[symbol].df\n",
    "    df['returns'] = df['close'].pct_change()\n",
    "    return df\n",
    "\n",
    "# Simple moving average strategy (can be replaced with a more complex model)\n",
    "def moving_average_strategy(df):\n",
    "    df['SMA50'] = df['close'].rolling(window=50).mean()\n",
    "    df['SMA200'] = df['close'].rolling(window=200).mean()\n",
    "    df['signal'] = 0\n",
    "    df['signal'][df['SMA50'] > df['SMA200']] = 1  # Buy signal\n",
    "    df['signal'][df['SMA50'] < df['SMA200']] = -1  # Sell signal\n",
    "    return df\n",
    "\n",
    "# Backtesting function\n",
    "def backtest(df, initial_capital, position_size):\n",
    "    df['strategy_returns'] = df['signal'].shift(1) * df['returns']\n",
    "    df['cumulative_returns'] = (1 + df['strategy_returns']).cumprod() * initial_capital\n",
    "    return df\n",
    "\n",
    "# Fetch data and apply the strategy\n",
    "df = fetch_historical_data(symbol, start_date, end_date)\n",
    "df = moving_average_strategy(df)\n",
    "df = backtest(df, initial_capital, position_size)\n",
    "\n",
    "# Plot the results\n",
    "plt.figure(figsize=(12, 6))\n",
    "plt.plot(df.index, df['cumulative_returns'], label='Strategy Returns')\n",
    "plt.title('Backtesting Results')\n",
    "plt.xlabel('Date')\n",
    "plt.ylabel('Portfolio Value (USD)')\n",
    "plt.legend()\n",
    "plt.grid(True)\n",
    "plt.show()\n",
    "\n",
    "# Evaluate performance metrics\n",
    "total_return = df['cumulative_returns'][-1] / initial_capital - 1\n",
    "annualized_return = (1 + total_return) ** (365 / len(df)) - 1\n",
    "sharpe_ratio = df['strategy_returns'].mean() / df['strategy_returns'].std() * np.sqrt(252)\n",
    "\n",
    "print(f\"Total Return: {total_return:.2%}\")\n",
    "print(f\"Annualized Return: {annualized_return:.2%}\")\n",
    "print(f\"Sharpe Ratio: {sharpe_ratio:.2f}\")"
   ]
  }
 ],
 "metadata": {
  "kernelspec": {
   "display_name": "Python 3",
   "language": "python",
   "name": "python3"
  },
  "language_info": {
   "codemirror_mode": {
    "name": "ipython",
    "version": 3
   },
   "file_extension": ".py",
   "mimetype": "text/x-python",
   "name": "python",
   "nbconvert_exporter": "python",
   "pygments_lexer": "ipython3",
   "version": "3.10.7"
  }
 },
 "nbformat": 4,
 "nbformat_minor": 2
}
